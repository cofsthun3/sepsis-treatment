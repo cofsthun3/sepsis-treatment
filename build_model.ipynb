{
 "cells": [
  {
   "cell_type": "code",
   "execution_count": 3,
   "id": "59693c09",
   "metadata": {},
   "outputs": [
    {
     "ename": "OSError",
     "evalue": "[WinError 127] The specified procedure could not be found. Error loading \"C:\\ProgramData\\Anaconda3\\lib\\site-packages\\torch\\lib\\nvfuser_codegen.dll\" or one of its dependencies.",
     "output_type": "error",
     "traceback": [
      "\u001B[1;31m---------------------------------------------------------------------------\u001B[0m",
      "\u001B[1;31mOSError\u001B[0m                                   Traceback (most recent call last)",
      "Cell \u001B[1;32mIn[3], line 4\u001B[0m\n\u001B[0;32m      2\u001B[0m \u001B[38;5;28;01mimport\u001B[39;00m \u001B[38;5;21;01mnumpy\u001B[39;00m \u001B[38;5;28;01mas\u001B[39;00m \u001B[38;5;21;01mnp\u001B[39;00m\n\u001B[0;32m      3\u001B[0m \u001B[38;5;28;01mfrom\u001B[39;00m \u001B[38;5;21;01msklearn\u001B[39;00m\u001B[38;5;21;01m.\u001B[39;00m\u001B[38;5;21;01mpreprocessing\u001B[39;00m \u001B[38;5;28;01mimport\u001B[39;00m StandardScaler\n\u001B[1;32m----> 4\u001B[0m \u001B[38;5;28;01mimport\u001B[39;00m \u001B[38;5;21;01mtorch\u001B[39;00m\n\u001B[0;32m      5\u001B[0m \u001B[38;5;28;01mimport\u001B[39;00m \u001B[38;5;21;01mtorch\u001B[39;00m\u001B[38;5;21;01m.\u001B[39;00m\u001B[38;5;21;01mnn\u001B[39;00m \u001B[38;5;28;01mas\u001B[39;00m \u001B[38;5;21;01mnn\u001B[39;00m\n\u001B[0;32m      6\u001B[0m \u001B[38;5;28;01mimport\u001B[39;00m \u001B[38;5;21;01mtorch\u001B[39;00m\u001B[38;5;21;01m.\u001B[39;00m\u001B[38;5;21;01moptim\u001B[39;00m \u001B[38;5;28;01mas\u001B[39;00m \u001B[38;5;21;01moptim\u001B[39;00m\n",
      "File \u001B[1;32mC:\\ProgramData\\Anaconda3\\lib\\site-packages\\torch\\__init__.py:128\u001B[0m\n\u001B[0;32m    126\u001B[0m     err \u001B[38;5;241m=\u001B[39m ctypes\u001B[38;5;241m.\u001B[39mWinError(last_error)\n\u001B[0;32m    127\u001B[0m     err\u001B[38;5;241m.\u001B[39mstrerror \u001B[38;5;241m+\u001B[39m\u001B[38;5;241m=\u001B[39m \u001B[38;5;124mf\u001B[39m\u001B[38;5;124m'\u001B[39m\u001B[38;5;124m Error loading \u001B[39m\u001B[38;5;124m\"\u001B[39m\u001B[38;5;132;01m{\u001B[39;00mdll\u001B[38;5;132;01m}\u001B[39;00m\u001B[38;5;124m\"\u001B[39m\u001B[38;5;124m or one of its dependencies.\u001B[39m\u001B[38;5;124m'\u001B[39m\n\u001B[1;32m--> 128\u001B[0m     \u001B[38;5;28;01mraise\u001B[39;00m err\n\u001B[0;32m    129\u001B[0m \u001B[38;5;28;01melif\u001B[39;00m res \u001B[38;5;129;01mis\u001B[39;00m \u001B[38;5;129;01mnot\u001B[39;00m \u001B[38;5;28;01mNone\u001B[39;00m:\n\u001B[0;32m    130\u001B[0m     is_loaded \u001B[38;5;241m=\u001B[39m \u001B[38;5;28;01mTrue\u001B[39;00m\n",
      "\u001B[1;31mOSError\u001B[0m: [WinError 127] The specified procedure could not be found. Error loading \"C:\\ProgramData\\Anaconda3\\lib\\site-packages\\torch\\lib\\nvfuser_codegen.dll\" or one of its dependencies."
     ]
    }
   ],
   "source": [
    "import pandas as pd\n",
    "import numpy as np\n",
    "from sklearn.preprocessing import StandardScaler\n",
    "import torch\n",
    "import torch.nn as nn\n",
    "import torch.optim as optim\n",
    "from torch.utils.data import DataLoader, TensorDataset\n",
    "from environment import SepsisEnv\n",
    "from model import run_agent"
   ]
  },
  {
   "cell_type": "code",
   "execution_count": null,
   "id": "d1e68911",
   "metadata": {},
   "outputs": [],
   "source": [
    "\n",
    "sepsis = pd.read_csv('data/MIMICtable.csv')"
   ]
  },
  {
   "cell_type": "code",
   "execution_count": 2,
   "id": "fbfac1e2",
   "metadata": {},
   "outputs": [],
   "source": [
    "# Determining observation space variables\n",
    "\n",
    "observation_space = ['gender', 'mechvent', 'age', 're_admission', 'Weight_kg', 'GCS', 'HR', 'SysBP', 'MeanBP', \n",
    " 'DiaBP', 'RR','Temp_C', 'FiO2_1', 'Potassium', 'Sodium', \n",
    " 'Chloride', 'Glucose', 'Magnesium', 'Calcium', 'Hb', 'WBC_count', 'Platelets_count',\n",
    " 'PT', 'PTT', 'Arterial_pH', 'paO2', \n",
    " 'paCO2', 'Arterial_BE','HCO3', 'Arterial_lactate', 'PaO2_FiO2', 'SpO2', 'SGOT','Creatinine','BUN',\n",
    " 'SGPT','INR', 'Total_bili']"
   ]
  },
  {
   "cell_type": "code",
   "execution_count": 3,
   "id": "c80bcf2c",
   "metadata": {},
   "outputs": [
    {
     "ename": "NameError",
     "evalue": "name 'sepsis' is not defined",
     "output_type": "error",
     "traceback": [
      "\u001B[1;31m---------------------------------------------------------------------------\u001B[0m",
      "\u001B[1;31mNameError\u001B[0m                                 Traceback (most recent call last)",
      "Cell \u001B[1;32mIn[3], line 2\u001B[0m\n\u001B[0;32m      1\u001B[0m \u001B[38;5;66;03m# Prepare variables for RL\u001B[39;00m\n\u001B[1;32m----> 2\u001B[0m sepsis[\u001B[38;5;124m'\u001B[39m\u001B[38;5;124mdt\u001B[39m\u001B[38;5;124m'\u001B[39m] \u001B[38;5;241m=\u001B[39m pd\u001B[38;5;241m.\u001B[39mto_datetime(\u001B[43msepsis\u001B[49m[\u001B[38;5;124m'\u001B[39m\u001B[38;5;124mcharttime\u001B[39m\u001B[38;5;124m'\u001B[39m], unit \u001B[38;5;241m=\u001B[39m \u001B[38;5;124m'\u001B[39m\u001B[38;5;124ms\u001B[39m\u001B[38;5;124m'\u001B[39m)\n\u001B[0;32m      3\u001B[0m sepsis[\u001B[38;5;124m'\u001B[39m\u001B[38;5;124mSOFA_NEXT\u001B[39m\u001B[38;5;124m'\u001B[39m] \u001B[38;5;241m=\u001B[39m sepsis\u001B[38;5;241m.\u001B[39mgroupby(\u001B[38;5;124m'\u001B[39m\u001B[38;5;124micustayid\u001B[39m\u001B[38;5;124m'\u001B[39m)[\u001B[38;5;124m'\u001B[39m\u001B[38;5;124mSOFA\u001B[39m\u001B[38;5;124m'\u001B[39m]\u001B[38;5;241m.\u001B[39mshift(\u001B[38;5;241m-\u001B[39m\u001B[38;5;241m1\u001B[39m)\n\u001B[0;32m      4\u001B[0m sepsis[\u001B[38;5;124m'\u001B[39m\u001B[38;5;124mreward\u001B[39m\u001B[38;5;124m'\u001B[39m] \u001B[38;5;241m=\u001B[39m \u001B[38;5;241m-\u001B[39m\u001B[38;5;241m0.25\u001B[39m \u001B[38;5;241m*\u001B[39m np\u001B[38;5;241m.\u001B[39mtanh(sepsis[\u001B[38;5;124m'\u001B[39m\u001B[38;5;124mSOFA\u001B[39m\u001B[38;5;124m'\u001B[39m] \u001B[38;5;241m-\u001B[39m \u001B[38;5;241m6\u001B[39m) \u001B[38;5;241m+\u001B[39m \u001B[38;5;241m-\u001B[39m\u001B[38;5;241m0.2\u001B[39m \u001B[38;5;241m*\u001B[39m (sepsis[\u001B[38;5;124m'\u001B[39m\u001B[38;5;124mSOFA_NEXT\u001B[39m\u001B[38;5;124m'\u001B[39m] \u001B[38;5;241m-\u001B[39m sepsis[\u001B[38;5;124m'\u001B[39m\u001B[38;5;124mSOFA\u001B[39m\u001B[38;5;124m'\u001B[39m])\n",
      "\u001B[1;31mNameError\u001B[0m: name 'sepsis' is not defined"
     ]
    }
   ],
   "source": [
    "# Prepare variables for RL\n",
    "sepsis['dt'] = pd.to_datetime(sepsis['charttime'], unit = 's')\n",
    "sepsis['SOFA_NEXT'] = sepsis.groupby('icustayid')['SOFA'].shift(-1)\n",
    "sepsis['reward'] = -0.25 * np.tanh(sepsis['SOFA'] - 6) + -0.2 * (sepsis['SOFA_NEXT'] - sepsis['SOFA'])\n",
    "sepsis['step'] = sepsis.groupby('icustayid').cumcount(ascending = True)\n",
    "sepsis['is_end'] = sepsis.groupby('icustayid')['step'].transform(lambda x: (x == x.max()).astype(int))"
   ]
  },
  {
   "cell_type": "code",
   "execution_count": 337,
   "id": "32e63800",
   "metadata": {},
   "outputs": [],
   "source": [
    "# Transform observation space\n",
    "scaler = StandardScaler()\n",
    "scaled_data = scaler.fit_transform(sepsis[observation_space])\n",
    "data_tensor = torch.FloatTensor(scaled_data)"
   ]
  },
  {
   "cell_type": "code",
   "execution_count": 338,
   "id": "3cd53deb",
   "metadata": {},
   "outputs": [],
   "source": [
    "class Autoencoder(nn.Module):\n",
    "    def __init__(self, obs_space, dim):\n",
    "        super(Autoencoder, self).__init__()\n",
    "        self.encoder = nn.Sequential(\n",
    "            nn.Linear(obs_space, dim),\n",
    "            nn.Linear(dim, obs_space)\n",
    "        )\n",
    "\n",
    "    def forward(self, x):\n",
    "        x = self.encoder(x)\n",
    "        return x"
   ]
  },
  {
   "cell_type": "code",
   "execution_count": 339,
   "id": "73fc0dcf",
   "metadata": {},
   "outputs": [],
   "source": [
    "# Initialize the autoencoder\n",
    "input_size = data_tensor.shape[1]\n",
    "hidden_size = 16\n",
    "autoencoder = Autoencoder(input_size, hidden_size)\n",
    "criterion = nn.MSELoss()\n",
    "optimizer = optim.Adam(autoencoder.parameters(), lr=0.001)\n",
    "\n",
    "num_epochs = 100\n",
    "for epoch in range(num_epochs):\n",
    "    outputs = autoencoder(data_tensor)\n",
    "    loss = criterion(outputs, data_tensor)\n",
    "    optimizer.zero_grad()\n",
    "    loss.backward()\n",
    "    optimizer.step()"
   ]
  },
  {
   "cell_type": "code",
   "execution_count": 340,
   "id": "032d69be",
   "metadata": {},
   "outputs": [],
   "source": [
    "sepsis['state'] = sepsis.apply(lambda row: list(outputs.detach().numpy()[row.name]), axis=1)"
   ]
  },
  {
   "cell_type": "code",
   "execution_count": null,
   "id": "e75689a4",
   "metadata": {},
   "outputs": [],
   "source": [
    "actions = ['max_dose_vaso', 'input_total']"
   ]
  },
  {
   "cell_type": "code",
   "execution_count": 356,
   "id": "8e37bcc7",
   "metadata": {},
   "outputs": [],
   "source": [
    "env = SepsisEnv(sepsis)"
   ]
  },
  {
   "cell_type": "code",
   "execution_count": null,
   "id": "4eceb90e",
   "metadata": {},
   "outputs": [],
   "source": [
    "run_agent(env)"
   ]
  },
  {
   "cell_type": "code",
   "execution_count": 347,
   "id": "c3c3b3b3",
   "metadata": {},
   "outputs": [
    {
     "data": {
      "text/html": [
       "<div>\n",
       "<style scoped>\n",
       "    .dataframe tbody tr th:only-of-type {\n",
       "        vertical-align: middle;\n",
       "    }\n",
       "\n",
       "    .dataframe tbody tr th {\n",
       "        vertical-align: top;\n",
       "    }\n",
       "\n",
       "    .dataframe thead th {\n",
       "        text-align: right;\n",
       "    }\n",
       "</style>\n",
       "<table border=\"1\" class=\"dataframe\">\n",
       "  <thead>\n",
       "    <tr style=\"text-align: right;\">\n",
       "      <th></th>\n",
       "      <th>icustayid</th>\n",
       "      <th>reward</th>\n",
       "      <th>is_end</th>\n",
       "      <th>state</th>\n",
       "      <th>step</th>\n",
       "    </tr>\n",
       "  </thead>\n",
       "  <tbody>\n",
       "    <tr>\n",
       "      <th>0</th>\n",
       "      <td>11</td>\n",
       "      <td>0.209601</td>\n",
       "      <td>0</td>\n",
       "      <td>[0.7355523, 0.020328823, 0.7207098, 0.59214455...</td>\n",
       "      <td>0</td>\n",
       "    </tr>\n",
       "    <tr>\n",
       "      <th>1</th>\n",
       "      <td>11</td>\n",
       "      <td>0.190399</td>\n",
       "      <td>0</td>\n",
       "      <td>[0.8348446, 0.4144567, 0.62653625, 0.3550992, ...</td>\n",
       "      <td>1</td>\n",
       "    </tr>\n",
       "    <tr>\n",
       "      <th>2</th>\n",
       "      <td>11</td>\n",
       "      <td>-0.009601</td>\n",
       "      <td>0</td>\n",
       "      <td>[0.8471354, 0.26626393, 0.6448276, 0.47399607,...</td>\n",
       "      <td>2</td>\n",
       "    </tr>\n",
       "    <tr>\n",
       "      <th>3</th>\n",
       "      <td>11</td>\n",
       "      <td>-0.000000</td>\n",
       "      <td>0</td>\n",
       "      <td>[0.6508782, 0.40743545, 0.28347248, 0.362692, ...</td>\n",
       "      <td>3</td>\n",
       "    </tr>\n",
       "    <tr>\n",
       "      <th>4</th>\n",
       "      <td>11</td>\n",
       "      <td>-0.800000</td>\n",
       "      <td>0</td>\n",
       "      <td>[0.69932824, 0.01118131, 0.37214866, 0.502551,...</td>\n",
       "      <td>4</td>\n",
       "    </tr>\n",
       "    <tr>\n",
       "      <th>...</th>\n",
       "      <td>...</td>\n",
       "      <td>...</td>\n",
       "      <td>...</td>\n",
       "      <td>...</td>\n",
       "      <td>...</td>\n",
       "    </tr>\n",
       "    <tr>\n",
       "      <th>233627</th>\n",
       "      <td>99995</td>\n",
       "      <td>0.249997</td>\n",
       "      <td>0</td>\n",
       "      <td>[-0.69728565, -0.2890424, -0.69142675, -0.0250...</td>\n",
       "      <td>8</td>\n",
       "    </tr>\n",
       "    <tr>\n",
       "      <th>233628</th>\n",
       "      <td>99995</td>\n",
       "      <td>-0.550003</td>\n",
       "      <td>0</td>\n",
       "      <td>[-0.7468528, -0.28700665, -0.78307116, -0.1198...</td>\n",
       "      <td>9</td>\n",
       "    </tr>\n",
       "    <tr>\n",
       "      <th>233629</th>\n",
       "      <td>99995</td>\n",
       "      <td>1.041007</td>\n",
       "      <td>0</td>\n",
       "      <td>[-0.57181424, -0.29108945, -0.7078303, 0.07258...</td>\n",
       "      <td>10</td>\n",
       "    </tr>\n",
       "    <tr>\n",
       "      <th>233630</th>\n",
       "      <td>99995</td>\n",
       "      <td>0.249997</td>\n",
       "      <td>0</td>\n",
       "      <td>[-0.450858, -0.28231165, -0.57654035, 0.139152...</td>\n",
       "      <td>11</td>\n",
       "    </tr>\n",
       "    <tr>\n",
       "      <th>233631</th>\n",
       "      <td>99995</td>\n",
       "      <td>NaN</td>\n",
       "      <td>1</td>\n",
       "      <td>[-0.5712348, -0.3369111, -0.6170378, 0.0701692...</td>\n",
       "      <td>12</td>\n",
       "    </tr>\n",
       "  </tbody>\n",
       "</table>\n",
       "<p>233632 rows × 5 columns</p>\n",
       "</div>"
      ],
      "text/plain": [
       "        icustayid    reward  is_end  \\\n",
       "0              11  0.209601       0   \n",
       "1              11  0.190399       0   \n",
       "2              11 -0.009601       0   \n",
       "3              11 -0.000000       0   \n",
       "4              11 -0.800000       0   \n",
       "...           ...       ...     ...   \n",
       "233627      99995  0.249997       0   \n",
       "233628      99995 -0.550003       0   \n",
       "233629      99995  1.041007       0   \n",
       "233630      99995  0.249997       0   \n",
       "233631      99995       NaN       1   \n",
       "\n",
       "                                                    state  step  \n",
       "0       [0.7355523, 0.020328823, 0.7207098, 0.59214455...     0  \n",
       "1       [0.8348446, 0.4144567, 0.62653625, 0.3550992, ...     1  \n",
       "2       [0.8471354, 0.26626393, 0.6448276, 0.47399607,...     2  \n",
       "3       [0.6508782, 0.40743545, 0.28347248, 0.362692, ...     3  \n",
       "4       [0.69932824, 0.01118131, 0.37214866, 0.502551,...     4  \n",
       "...                                                   ...   ...  \n",
       "233627  [-0.69728565, -0.2890424, -0.69142675, -0.0250...     8  \n",
       "233628  [-0.7468528, -0.28700665, -0.78307116, -0.1198...     9  \n",
       "233629  [-0.57181424, -0.29108945, -0.7078303, 0.07258...    10  \n",
       "233630  [-0.450858, -0.28231165, -0.57654035, 0.139152...    11  \n",
       "233631  [-0.5712348, -0.3369111, -0.6170378, 0.0701692...    12  \n",
       "\n",
       "[233632 rows x 5 columns]"
      ]
     },
     "execution_count": 347,
     "metadata": {},
     "output_type": "execute_result"
    }
   ],
   "source": [
    "sepsis[['icustayid', 'reward', 'is_end', 'state', 'step']]"
   ]
  }
 ],
 "metadata": {
  "kernelspec": {
   "display_name": "Python 3",
   "language": "python",
   "name": "python3"
  },
  "language_info": {
   "codemirror_mode": {
    "name": "ipython",
    "version": 3
   },
   "file_extension": ".py",
   "mimetype": "text/x-python",
   "name": "python",
   "nbconvert_exporter": "python",
   "pygments_lexer": "ipython3",
   "version": "3.8.8"
  }
 },
 "nbformat": 4,
 "nbformat_minor": 5
}
