{
 "cells": [
  {
   "cell_type": "markdown",
   "source": [
    "Importing libraries"
   ],
   "metadata": {
    "collapsed": false
   }
  },
  {
   "cell_type": "code",
   "execution_count": 1,
   "metadata": {
    "collapsed": true
   },
   "outputs": [],
   "source": [
    "import pandas as pd\n",
    "import numpy as np\n"
   ]
  },
  {
   "cell_type": "markdown",
   "source": [
    "Loading sepsis cohort from csv file"
   ],
   "metadata": {
    "collapsed": false
   }
  },
  {
   "cell_type": "code",
   "execution_count": 2,
   "outputs": [
    {
     "data": {
      "text/plain": "   bloc  icustayid   charttime  gender           age  elixhauser  \\\n0     1         11  6898241400       1  30766.069028           6   \n1     2         11  6898255800       1  30766.069028           6   \n2     3         11  6898270200       1  30766.069028           6   \n3     4         11  6898284600       1  30766.069028           6   \n4     5         11  6898299000       1  30766.069028           6   \n\n   re_admission  died_in_hosp  died_within_48h_of_out_time  mortality_90d  \\\n0             1             0                            0              0   \n1             1             0                            0              0   \n2             1             0                            0              0   \n3             1             0                            0              0   \n4             1             0                            0              0   \n\n   ...   PaO2_FiO2  median_dose_vaso  max_dose_vaso  input_total  \\\n0  ...  198.148148               0.0            0.0          0.0   \n1  ...  198.148148               0.0            0.0          0.0   \n2  ...  266.666667               0.0            0.0          0.0   \n3  ...  100.000000               0.0            0.0          0.0   \n4  ...  100.000000               0.0            0.0          0.0   \n\n   input_4hourly  output_total  output_4hourly  cumulated_balance  SOFA  SIRS  \n0            0.0           0.0             0.0                0.0     7     0  \n1            0.0         460.0           460.0             -460.0     5     0  \n2            0.0        1020.0           560.0            -1020.0     5     1  \n3            0.0        1600.0           580.0            -1600.0     6     1  \n4            0.0        2020.0           420.0            -2020.0     6     1  \n\n[5 rows x 59 columns]",
      "text/html": "<div>\n<style scoped>\n    .dataframe tbody tr th:only-of-type {\n        vertical-align: middle;\n    }\n\n    .dataframe tbody tr th {\n        vertical-align: top;\n    }\n\n    .dataframe thead th {\n        text-align: right;\n    }\n</style>\n<table border=\"1\" class=\"dataframe\">\n  <thead>\n    <tr style=\"text-align: right;\">\n      <th></th>\n      <th>bloc</th>\n      <th>icustayid</th>\n      <th>charttime</th>\n      <th>gender</th>\n      <th>age</th>\n      <th>elixhauser</th>\n      <th>re_admission</th>\n      <th>died_in_hosp</th>\n      <th>died_within_48h_of_out_time</th>\n      <th>mortality_90d</th>\n      <th>...</th>\n      <th>PaO2_FiO2</th>\n      <th>median_dose_vaso</th>\n      <th>max_dose_vaso</th>\n      <th>input_total</th>\n      <th>input_4hourly</th>\n      <th>output_total</th>\n      <th>output_4hourly</th>\n      <th>cumulated_balance</th>\n      <th>SOFA</th>\n      <th>SIRS</th>\n    </tr>\n  </thead>\n  <tbody>\n    <tr>\n      <th>0</th>\n      <td>1</td>\n      <td>11</td>\n      <td>6898241400</td>\n      <td>1</td>\n      <td>30766.069028</td>\n      <td>6</td>\n      <td>1</td>\n      <td>0</td>\n      <td>0</td>\n      <td>0</td>\n      <td>...</td>\n      <td>198.148148</td>\n      <td>0.0</td>\n      <td>0.0</td>\n      <td>0.0</td>\n      <td>0.0</td>\n      <td>0.0</td>\n      <td>0.0</td>\n      <td>0.0</td>\n      <td>7</td>\n      <td>0</td>\n    </tr>\n    <tr>\n      <th>1</th>\n      <td>2</td>\n      <td>11</td>\n      <td>6898255800</td>\n      <td>1</td>\n      <td>30766.069028</td>\n      <td>6</td>\n      <td>1</td>\n      <td>0</td>\n      <td>0</td>\n      <td>0</td>\n      <td>...</td>\n      <td>198.148148</td>\n      <td>0.0</td>\n      <td>0.0</td>\n      <td>0.0</td>\n      <td>0.0</td>\n      <td>460.0</td>\n      <td>460.0</td>\n      <td>-460.0</td>\n      <td>5</td>\n      <td>0</td>\n    </tr>\n    <tr>\n      <th>2</th>\n      <td>3</td>\n      <td>11</td>\n      <td>6898270200</td>\n      <td>1</td>\n      <td>30766.069028</td>\n      <td>6</td>\n      <td>1</td>\n      <td>0</td>\n      <td>0</td>\n      <td>0</td>\n      <td>...</td>\n      <td>266.666667</td>\n      <td>0.0</td>\n      <td>0.0</td>\n      <td>0.0</td>\n      <td>0.0</td>\n      <td>1020.0</td>\n      <td>560.0</td>\n      <td>-1020.0</td>\n      <td>5</td>\n      <td>1</td>\n    </tr>\n    <tr>\n      <th>3</th>\n      <td>4</td>\n      <td>11</td>\n      <td>6898284600</td>\n      <td>1</td>\n      <td>30766.069028</td>\n      <td>6</td>\n      <td>1</td>\n      <td>0</td>\n      <td>0</td>\n      <td>0</td>\n      <td>...</td>\n      <td>100.000000</td>\n      <td>0.0</td>\n      <td>0.0</td>\n      <td>0.0</td>\n      <td>0.0</td>\n      <td>1600.0</td>\n      <td>580.0</td>\n      <td>-1600.0</td>\n      <td>6</td>\n      <td>1</td>\n    </tr>\n    <tr>\n      <th>4</th>\n      <td>5</td>\n      <td>11</td>\n      <td>6898299000</td>\n      <td>1</td>\n      <td>30766.069028</td>\n      <td>6</td>\n      <td>1</td>\n      <td>0</td>\n      <td>0</td>\n      <td>0</td>\n      <td>...</td>\n      <td>100.000000</td>\n      <td>0.0</td>\n      <td>0.0</td>\n      <td>0.0</td>\n      <td>0.0</td>\n      <td>2020.0</td>\n      <td>420.0</td>\n      <td>-2020.0</td>\n      <td>6</td>\n      <td>1</td>\n    </tr>\n  </tbody>\n</table>\n<p>5 rows × 59 columns</p>\n</div>"
     },
     "execution_count": 2,
     "metadata": {},
     "output_type": "execute_result"
    }
   ],
   "source": [
    "cohort = pd.read_csv('D:/OMSA/202303-Fall/CSE-6250/Project/AI_Clinician-master/MIMICtable.csv')\n",
    "cohort.head()"
   ],
   "metadata": {
    "collapsed": false
   }
  },
  {
   "cell_type": "markdown",
   "source": [
    "Calculating mean age"
   ],
   "metadata": {
    "collapsed": false
   }
  },
  {
   "cell_type": "code",
   "execution_count": 17,
   "outputs": [
    {
     "data": {
      "text/plain": "64.40275746814288"
     },
     "execution_count": 17,
     "metadata": {},
     "output_type": "execute_result"
    }
   ],
   "source": [
    "df_age = cohort[['icustayid','age']].groupby(['icustayid']).mean('age')/365.25\n",
    "np.mean(df_age['age'].astype(int))"
   ],
   "metadata": {
    "collapsed": false
   }
  },
  {
   "cell_type": "markdown",
   "source": [
    "Calculating mean weight"
   ],
   "metadata": {
    "collapsed": false
   }
  },
  {
   "cell_type": "code",
   "execution_count": 34,
   "outputs": [
    {
     "data": {
      "text/plain": "83.49118967532483"
     },
     "execution_count": 34,
     "metadata": {},
     "output_type": "execute_result"
    }
   ],
   "source": [
    "cohort[['icustayid','Weight_kg']].drop_duplicates()\n",
    "np.mean(cohort[['icustayid','Weight_kg']].drop_duplicates()['Weight_kg'])"
   ],
   "metadata": {
    "collapsed": false
   }
  },
  {
   "cell_type": "markdown",
   "source": [
    "Gender distribution"
   ],
   "metadata": {
    "collapsed": false
   }
  },
  {
   "cell_type": "code",
   "execution_count": 40,
   "outputs": [
    {
     "data": {
      "text/plain": "        icustayid\ngender           \n0           10731\n1            8417",
      "text/html": "<div>\n<style scoped>\n    .dataframe tbody tr th:only-of-type {\n        vertical-align: middle;\n    }\n\n    .dataframe tbody tr th {\n        vertical-align: top;\n    }\n\n    .dataframe thead th {\n        text-align: right;\n    }\n</style>\n<table border=\"1\" class=\"dataframe\">\n  <thead>\n    <tr style=\"text-align: right;\">\n      <th></th>\n      <th>icustayid</th>\n    </tr>\n    <tr>\n      <th>gender</th>\n      <th></th>\n    </tr>\n  </thead>\n  <tbody>\n    <tr>\n      <th>0</th>\n      <td>10731</td>\n    </tr>\n    <tr>\n      <th>1</th>\n      <td>8417</td>\n    </tr>\n  </tbody>\n</table>\n</div>"
     },
     "execution_count": 40,
     "metadata": {},
     "output_type": "execute_result"
    }
   ],
   "source": [
    " cohort[['icustayid','gender']].drop_duplicates().groupby(['gender']).count()"
   ],
   "metadata": {
    "collapsed": false
   }
  },
  {
   "cell_type": "markdown",
   "source": [
    "Re-admission distribution"
   ],
   "metadata": {
    "collapsed": false
   }
  },
  {
   "cell_type": "code",
   "execution_count": 41,
   "outputs": [
    {
     "data": {
      "text/plain": "              icustayid\nre_admission           \n0                 12852\n1                  6296",
      "text/html": "<div>\n<style scoped>\n    .dataframe tbody tr th:only-of-type {\n        vertical-align: middle;\n    }\n\n    .dataframe tbody tr th {\n        vertical-align: top;\n    }\n\n    .dataframe thead th {\n        text-align: right;\n    }\n</style>\n<table border=\"1\" class=\"dataframe\">\n  <thead>\n    <tr style=\"text-align: right;\">\n      <th></th>\n      <th>icustayid</th>\n    </tr>\n    <tr>\n      <th>re_admission</th>\n      <th></th>\n    </tr>\n  </thead>\n  <tbody>\n    <tr>\n      <th>0</th>\n      <td>12852</td>\n    </tr>\n    <tr>\n      <th>1</th>\n      <td>6296</td>\n    </tr>\n  </tbody>\n</table>\n</div>"
     },
     "execution_count": 41,
     "metadata": {},
     "output_type": "execute_result"
    }
   ],
   "source": [
    "cohort[['icustayid','re_admission']].drop_duplicates().groupby(['re_admission']).count()\n"
   ],
   "metadata": {
    "collapsed": false
   }
  },
  {
   "cell_type": "markdown",
   "source": [
    "Mechanical ventilation distribution"
   ],
   "metadata": {
    "collapsed": false
   }
  },
  {
   "cell_type": "code",
   "execution_count": 42,
   "outputs": [
    {
     "data": {
      "text/plain": "          icustayid\nmechvent           \n0             17021\n1              9034",
      "text/html": "<div>\n<style scoped>\n    .dataframe tbody tr th:only-of-type {\n        vertical-align: middle;\n    }\n\n    .dataframe tbody tr th {\n        vertical-align: top;\n    }\n\n    .dataframe thead th {\n        text-align: right;\n    }\n</style>\n<table border=\"1\" class=\"dataframe\">\n  <thead>\n    <tr style=\"text-align: right;\">\n      <th></th>\n      <th>icustayid</th>\n    </tr>\n    <tr>\n      <th>mechvent</th>\n      <th></th>\n    </tr>\n  </thead>\n  <tbody>\n    <tr>\n      <th>0</th>\n      <td>17021</td>\n    </tr>\n    <tr>\n      <th>1</th>\n      <td>9034</td>\n    </tr>\n  </tbody>\n</table>\n</div>"
     },
     "execution_count": 42,
     "metadata": {},
     "output_type": "execute_result"
    }
   ],
   "source": [
    "cohort[['icustayid','mechvent']].drop_duplicates().groupby(['mechvent']).count()"
   ],
   "metadata": {
    "collapsed": false
   }
  }
 ],
 "metadata": {
  "kernelspec": {
   "display_name": "Python 3",
   "language": "python",
   "name": "python3"
  },
  "language_info": {
   "codemirror_mode": {
    "name": "ipython",
    "version": 2
   },
   "file_extension": ".py",
   "mimetype": "text/x-python",
   "name": "python",
   "nbconvert_exporter": "python",
   "pygments_lexer": "ipython2",
   "version": "2.7.6"
  }
 },
 "nbformat": 4,
 "nbformat_minor": 0
}
